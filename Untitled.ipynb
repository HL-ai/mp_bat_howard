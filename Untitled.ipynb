{
 "cells": [
  {
   "cell_type": "code",
   "execution_count": 1,
   "metadata": {},
   "outputs": [],
   "source": [
    "from maggma.stores import MongoStore\n",
    "import json\n",
    "\n",
    "with open('.db_info.json') as json_file:\n",
    "    db_login = json.load(json_file)\n",
    "\n",
    "elec = MongoStore(\"js_cathodes\", \"concat_elec_basf\",\n",
    "                  host=db_login['host'],\n",
    "                  username=db_login['username'],\n",
    "                  password=db_login['password'],\n",
    "                  lu_field=\"last_updated\")\n",
    "\n",
    "material = MongoStore(\"js_cathodes\", \"materials_js\",\n",
    "                  host=db_login['host'],\n",
    "                  username=db_login['username'],\n",
    "                  password=db_login['password'],\n",
    "                  lu_field=\"last_updated\")\n",
    "\n",
    "tasks = MongoStore(\"js_cathodes\", \"tasks\",\n",
    "                    host=db_login['host'],\n",
    "                    username=db_login['username'],\n",
    "                    password=db_login['password'],\n",
    "                    lu_field=\"last_updated\")\n",
    "elec.connect()\n",
    "material.connect()\n",
    "tasks.connect()"
   ]
  },
  {
   "cell_type": "code",
   "execution_count": 2,
   "metadata": {},
   "outputs": [
    {
     "name": "stderr",
     "output_type": "stream",
     "text": [
      "/Users/haomingli/uw/pymatgen/pymatgen/core/structure.py:638: UserWarning:\n",
      "\n",
      "Not all sites have property magmom. Missing values are set to None.\n",
      "\n"
     ]
    },
    {
     "name": "stdout",
     "output_type": "stream",
     "text": [
      "Charge Store\n"
     ]
    },
    {
     "name": "stderr",
     "output_type": "stream",
     "text": [
      "/Users/haomingli/uw/crystaltoolkit/crystal_toolkit/core/mpcomponent.py:65: UserWarning:\n",
      "\n",
      "No app defined for component StructureMoleculeComponent, callbacks cannot be created. Please register app using MPComponent.register_app(app).\n",
      "\n",
      "/Users/haomingli/uw/crystaltoolkit/crystal_toolkit/core/mpcomponent.py:72: UserWarning:\n",
      "\n",
      "No cache is defined for component StructureMoleculeComponent, performance of app may be degraded. Please register cache using MPComponent.register_cache(cache).\n",
      "\n"
     ]
    }
   ],
   "source": [
    "from pymatgen_diffusion.neb.get_migration_path import get_combined_scene\n",
    "gcs = get_combined_scene('1292_Li', elec, material, tasks)"
   ]
  },
  {
   "cell_type": "code",
   "execution_count": 6,
   "metadata": {
    "scrolled": false
   },
   "outputs": [
    {
     "name": "stderr",
     "output_type": "stream",
     "text": [
      "/Users/haomingli/uw/crystaltoolkit/crystal_toolkit/helpers/pythreejs_renderer.py:121: UserWarning:\n",
      "\n",
      "Primitive type convex has not been implemented for this renderer.\n",
      "\n"
     ]
    },
    {
     "data": {
      "application/vnd.jupyter.widget-view+json": {
       "model_id": "989d3709bb8f4139b7d44e1eb608c86d",
       "version_major": 2,
       "version_minor": 0
      },
      "text/plain": [
       "Renderer(background='white', camera=OrthographicCamera(bottom=-20.200857648851184, left=-20.200857648851184, n…"
      ]
     },
     "metadata": {},
     "output_type": "display_data"
    }
   ],
   "source": [
    "from crystal_toolkit.helpers.pythreejs_renderer import display_scene\n",
    "display_scene(gcs)"
   ]
  },
  {
   "cell_type": "code",
   "execution_count": null,
   "metadata": {},
   "outputs": [],
   "source": []
  }
 ],
 "metadata": {
  "kernelspec": {
   "display_name": "Python 3",
   "language": "python",
   "name": "python3"
  },
  "language_info": {
   "codemirror_mode": {
    "name": "ipython",
    "version": 3
   },
   "file_extension": ".py",
   "mimetype": "text/x-python",
   "name": "python",
   "nbconvert_exporter": "python",
   "pygments_lexer": "ipython3",
   "version": "3.6.9"
  }
 },
 "nbformat": 4,
 "nbformat_minor": 2
}
