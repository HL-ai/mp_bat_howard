{
 "cells": [
  {
   "cell_type": "code",
   "execution_count": 1,
   "metadata": {},
   "outputs": [],
   "source": [
    "from maggma.stores import MongoStore\n",
    "import json\n",
    "\n",
    "with open('.db_info.json') as json_file:\n",
    "    db_login = json.load(json_file)\n",
    "\n",
    "elec = MongoStore(\"js_cathodes\", \"concat_elec_basf\",\n",
    "                  host=db_login['host'],\n",
    "                  username=db_login['username'],\n",
    "                  password=db_login['password'],\n",
    "                  lu_field=\"last_updated\")\n",
    "\n",
    "material = MongoStore(\"js_cathodes\", \"materials_js\",\n",
    "                  host=db_login['host'],\n",
    "                  username=db_login['username'],\n",
    "                  password=db_login['password'],\n",
    "                  lu_field=\"last_updated\")\n",
    "\n",
    "tasks = MongoStore(\"js_cathodes\", \"tasks\",\n",
    "                    host=db_login['host'],\n",
    "                    username=db_login['username'],\n",
    "                    password=db_login['password'],\n",
    "                    lu_field=\"last_updated\")\n",
    "elec.connect()\n",
    "material.connect()\n",
    "tasks.connect()"
   ]
  },
  {
   "cell_type": "code",
   "execution_count": 4,
   "metadata": {},
   "outputs": [
    {
     "name": "stdout",
     "output_type": "stream",
     "text": [
      "Charge Store\n"
     ]
    },
    {
     "data": {
      "application/vnd.jupyter.widget-view+json": {
       "model_id": "2e2a5c5641e945f7920e3b16f6a37f14",
       "version_major": 2,
       "version_minor": 0
      },
      "text/plain": [
       "Renderer(background='white', camera=OrthographicCamera(bottom=-20.200857648851184, left=-20.200857648851184, n…"
      ]
     },
     "metadata": {},
     "output_type": "display_data"
    }
   ],
   "source": [
    "from pymatgen_diffusion.neb.get_migration_path import get_combined_scene\n",
    "gcs = get_combined_scene('1292_Li', elec, material, tasks)\n",
    "#1292_Li, 2209_Li?, 37816_Li?\n",
    "from crystal_toolkit.helpers.pythreejs_renderer import display_scene\n",
    "display_scene(gcs)"
   ]
  },
  {
   "cell_type": "code",
   "execution_count": null,
   "metadata": {},
   "outputs": [],
   "source": []
  }
 ],
 "metadata": {
  "kernelspec": {
   "display_name": "Python 3",
   "language": "python",
   "name": "python3"
  },
  "language_info": {
   "codemirror_mode": {
    "name": "ipython",
    "version": 3
   },
   "file_extension": ".py",
   "mimetype": "text/x-python",
   "name": "python",
   "nbconvert_exporter": "python",
   "pygments_lexer": "ipython3",
   "version": "3.6.9"
  }
 },
 "nbformat": 4,
 "nbformat_minor": 2
}
