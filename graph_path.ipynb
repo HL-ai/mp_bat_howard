{
 "cells": [
  {
   "cell_type": "code",
   "execution_count": 1,
   "metadata": {},
   "outputs": [],
   "source": [
    "%load_ext autoreload\n",
    "%autoreload 2"
   ]
  },
  {
   "cell_type": "code",
   "execution_count": 2,
   "metadata": {
    "scrolled": true
   },
   "outputs": [],
   "source": [
    "from pymatgen_diffusion.utils.get_db_data import get_ent_from_db, get_aeccar_from_store, get_deviation_from_optimal_cell_shape\n",
    "import json\n",
    "from maggma.stores import MongoStore\n",
    "from pymatgen_diffusion.neb import get_migration_path as gmp\n",
    "import copy\n",
    "import numpy as np\n",
    "import pymatgen_diffusion.utils.get_db_data\n",
    "from pymatgen_diffusion.neb import get_migration_path as gmp\n",
    "from pymatgen_diffusion.neb.full_path_mapper import FullPathMapper as fpm\n",
    "from crystal_toolkit.helpers.pythreejs_renderer import display_scene\n",
    "from crystal_toolkit.core.scene import Scene\n",
    "from crystal_toolkit.components import StructureMoleculeComponent\n",
    "from crystal_toolkit.components import Spheres, Cubes, Cylinders\n",
    "\n",
    "with open('.db_info.json') as json_file:\n",
    "    db_login = json.load(json_file)\n",
    "\n",
    "elec = MongoStore(\"js_cathodes\", \"concat_elec_basf\",\n",
    "                  host=db_login['host'],\n",
    "                  username=db_login['username'],\n",
    "                  password=db_login['password'],\n",
    "                  lu_field=\"last_updated\")\n",
    "\n",
    "material = MongoStore(\"js_cathodes\", \"materials_js\",\n",
    "                  host=db_login['host'],\n",
    "                  username=db_login['username'],\n",
    "                  password=db_login['password'],\n",
    "                  lu_field=\"last_updated\")\n",
    "\n",
    "tasks = MongoStore(\"js_cathodes\", \"tasks\",\n",
    "                    host=db_login['host'],\n",
    "                    username=db_login['username'],\n",
    "                    password=db_login['password'],\n",
    "                    lu_field=\"last_updated\")\n",
    "elec.connect()\n",
    "material.connect()\n",
    "tasks.connect()"
   ]
  },
  {
   "cell_type": "code",
   "execution_count": 3,
   "metadata": {
    "scrolled": true
   },
   "outputs": [],
   "source": [
    "#battid = '1292_Li'\n",
    "#grouped_entries = get_ent_from_db(elec, material, tasks, batt_id=battid, get_aeccar=True)\n",
    "#inserted_entries = [insert['inserted'][0] for insert in grouped_entries]\n",
    "#cep = gmp.get_cep_from_group(grouped_entries[0]['base'], grouped_entries[0]['inserted'], working_ion='Li', ltol=0.6, stol=0.8, angle_tol=10)\n",
    "#struct = cep.base_structure_full_sites\n",
    "#path = list(cep.get_least_chg_path())"
   ]
  },
  {
   "cell_type": "code",
   "execution_count": 4,
   "metadata": {},
   "outputs": [],
   "source": [
    "def modify_path(path):\n",
    "    if path[0][2]['to_jimage'] != (0,0,0):\n",
    "        path = [i for i in path[::-1]]\n",
    "        \n",
    "    start = list(set(path[0][0:2]) & set(path[-1][0:2]))[0]\n",
    "    last_point = start\n",
    "    m_path=[]\n",
    "    for i in range(0,len(path)):\n",
    "        one_hop = path[i][0:2]\n",
    "        if one_hop[0] == last_point:\n",
    "            m_path.append(path[i])\n",
    "        if one_hop[1] == last_point:\n",
    "            i_point = path[i][1]\n",
    "            e_point = path[i][0]\n",
    "\n",
    "            info = path[i][2]\n",
    "            new_info = copy.deepcopy(path[i][2])\n",
    "            new_info['to_jimage'] = tuple([-i for i in info['to_jimage']])\n",
    "            new_info['ipos'] = info['epos'] - np.array(info['to_jimage'])\n",
    "            new_info['epos'] = info['ipos'] + np.array(new_info['to_jimage'])\n",
    "            new_info['ipos_cart'] = info['epos_cart']\n",
    "            new_info['epos_cart'] = info['ipos_cart']\n",
    "            new_info.pop('hop')\n",
    "\n",
    "            new_hop = (i_point, e_point, new_info)\n",
    "            m_path.append(new_hop)\n",
    "\n",
    "        last_point = m_path[-1][1]\n",
    "    \n",
    "    return m_path"
   ]
  },
  {
   "cell_type": "code",
   "execution_count": 5,
   "metadata": {},
   "outputs": [],
   "source": [
    "def extract_info(m_path):\n",
    "    simple = []\n",
    "    for i in m_path:\n",
    "        hop = [i[0:2],i[2]['to_jimage']]\n",
    "        simple.append(hop)\n",
    "        \n",
    "    coords = []\n",
    "    cart_coords = []\n",
    "    modifier = np.array([0,0,0])\n",
    "    for i in range(0,len(m_path)):\n",
    "        hop = m_path[i]\n",
    "        coords.append([hop[2]['ipos'] + modifier, hop[2]['epos'] + modifier])\n",
    "        cart_coords.append([hop[2]['ipos_cart'], hop[2]['epos_cart']])\n",
    "        modifier += np.array(hop[2]['to_jimage'])\n",
    "        \n",
    "    return simple, coords, cart_coords"
   ]
  },
  {
   "cell_type": "code",
   "execution_count": 6,
   "metadata": {},
   "outputs": [],
   "source": [
    "from IPython.display import JSON\n",
    "from json import JSONEncoder, loads\n",
    "class MyEncoder(JSONEncoder):\n",
    "    def default(self, o):\n",
    "        try:\n",
    "            return o.as_dict()\n",
    "        except:\n",
    "            try:\n",
    "                return o.__dict__\n",
    "            except:\n",
    "                return str(o)\n",
    "show_json = lambda x : display(JSON(loads(MyEncoder().encode(x))))"
   ]
  },
  {
   "cell_type": "code",
   "execution_count": 7,
   "metadata": {
    "scrolled": true
   },
   "outputs": [],
   "source": [
    "def get_extra_scene(pairs, s_radius=0.8, c_radius=0.4): \n",
    "    '''\n",
    "    Takes in position pairs and draw a path\n",
    "    '''\n",
    "    extra_scene=[]\n",
    "    \n",
    "    [ini_color, final_color]=[[240, 240, 240], [0, 0, 0]]\n",
    "    div = len(pairs) - 1\n",
    "    if div == 1:\n",
    "        return [tuple(ini_color), tuple(final_color)]\n",
    "    else:\n",
    "        step_size = [int((final_color[i] - ini_color[i])/(div+1)) for i in range(0,3)]\n",
    "        rgb_list = [(ini_color[0] + u*step_size[0], ini_color[1] + u*step_size[1], ini_color[2] + u*step_size[2]) for u in range(1, div+1)]\n",
    "        rgb_list.insert(0, tuple(ini_color))\n",
    "        rgb_list.append(tuple(final_color))\n",
    "    rgb_to_html = lambda rgb: '#%02x%02x%02x' % rgb\n",
    "    html_colors = [rgb_to_html(i) for i in rgb_list]\n",
    "\n",
    "    \n",
    "    for i in range(0, len(pairs)):\n",
    "        if i == 0:\n",
    "            extra_scene.append(Spheres(positions=[pairs[i][0]], radius=s_radius, color=html_colors[0]))\n",
    "            extra_scene.append(Spheres(positions=[pairs[i][1]], radius=s_radius, color=html_colors[1]))\n",
    "            extra_scene.append(Cylinders(positionPairs=[pairs[i]], radius=c_radius, color='black'))\n",
    "        else:\n",
    "            extra_scene.append(Spheres(positions=[pairs[i][1]], radius=s_radius, color=html_colors[i+1]))\n",
    "            extra_scene.append(Cylinders(positionPairs=[pairs[i]], radius=c_radius, color='black'))\n",
    "    return extra_scene"
   ]
  },
  {
   "cell_type": "code",
   "execution_count": 8,
   "metadata": {},
   "outputs": [],
   "source": [
    "def get_combined_scene(batt_id, elec, material, tasks, with_migration_specie=False):\n",
    "    '''\n",
    "    Obtain a combined scene of the original given strucutre and the migration path.\n",
    "    '''\n",
    "    battid = '1292_Li'\n",
    "    grouped_entries = get_ent_from_db(elec, material, tasks, batt_id=battid, get_aeccar=True)\n",
    "    cep = gmp.get_cep_from_group(grouped_entries[0]['base'], grouped_entries[0]['inserted'], working_ion='Li', ltol=0.6, stol=0.8, angle_tol=10)\n",
    "    path = list(cep.get_least_chg_path())\n",
    "    pairs = extract_info(modify_path(path))[2]\n",
    "    \n",
    "    if with_migration_specie == False:\n",
    "        base_graph = cep.base_struct_entry.structure\n",
    "    else:\n",
    "        base_graph = cep.base_structure_full_sites\n",
    "    smc = StructureMoleculeComponent(base_graph)\n",
    "    ori_scene = smc.initial_graph.get_scene()\n",
    "    \n",
    "    extra_scene = Scene(name='test', contents=get_extra_scene(pairs))\n",
    "    combined_scene = Scene(name='combine_scene', contents=[ori_scene, extra_scene])\n",
    "    \n",
    "    return combined_scene"
   ]
  },
  {
   "cell_type": "code",
   "execution_count": 9,
   "metadata": {
    "scrolled": true
   },
   "outputs": [
    {
     "name": "stderr",
     "output_type": "stream",
     "text": [
      "/Users/haomingli/uw/pymatgen/pymatgen/core/structure.py:638: UserWarning:\n",
      "\n",
      "Not all sites have property magmom. Missing values are set to None.\n",
      "\n"
     ]
    },
    {
     "name": "stdout",
     "output_type": "stream",
     "text": [
      "Charge Store\n"
     ]
    },
    {
     "name": "stderr",
     "output_type": "stream",
     "text": [
      "/Users/haomingli/uw/crystaltoolkit/crystal_toolkit/core/mpcomponent.py:65: UserWarning:\n",
      "\n",
      "No app defined for component StructureMoleculeComponent, callbacks cannot be created. Please register app using MPComponent.register_app(app).\n",
      "\n",
      "/Users/haomingli/uw/crystaltoolkit/crystal_toolkit/core/mpcomponent.py:72: UserWarning:\n",
      "\n",
      "No cache is defined for component StructureMoleculeComponent, performance of app may be degraded. Please register cache using MPComponent.register_cache(cache).\n",
      "\n"
     ]
    }
   ],
   "source": [
    "gcs = get_combined_scene('1292_Li', elec, material, tasks)"
   ]
  },
  {
   "cell_type": "code",
   "execution_count": 10,
   "metadata": {},
   "outputs": [
    {
     "name": "stderr",
     "output_type": "stream",
     "text": [
      "/Users/haomingli/uw/crystaltoolkit/crystal_toolkit/helpers/pythreejs_renderer.py:121: UserWarning:\n",
      "\n",
      "Primitive type convex has not been implemented for this renderer.\n",
      "\n"
     ]
    },
    {
     "data": {
      "application/vnd.jupyter.widget-view+json": {
       "model_id": "8468e397da814a54bb3e084cd01a84a3",
       "version_major": 2,
       "version_minor": 0
      },
      "text/plain": [
       "Renderer(background='white', camera=OrthographicCamera(bottom=-20.200857648851184, left=-20.200857648851184, n…"
      ]
     },
     "metadata": {},
     "output_type": "display_data"
    }
   ],
   "source": [
    "display_scene(gcs)"
   ]
  },
  {
   "cell_type": "code",
   "execution_count": null,
   "metadata": {},
   "outputs": [],
   "source": []
  }
 ],
 "metadata": {
  "kernelspec": {
   "display_name": "Python 3",
   "language": "python",
   "name": "python3"
  },
  "language_info": {
   "codemirror_mode": {
    "name": "ipython",
    "version": 3
   },
   "file_extension": ".py",
   "mimetype": "text/x-python",
   "name": "python",
   "nbconvert_exporter": "python",
   "pygments_lexer": "ipython3",
   "version": "3.6.9"
  }
 },
 "nbformat": 4,
 "nbformat_minor": 2
}
